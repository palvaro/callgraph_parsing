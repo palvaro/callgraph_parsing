{
 "cells": [
  {
   "cell_type": "code",
   "execution_count": 15,
   "metadata": {
    "collapsed": true
   },
   "outputs": [],
   "source": [
    "from jaeger_parser import JaegerParser\n",
    "from graphviz import Digraph"
   ]
  },
  {
   "cell_type": "code",
   "execution_count": 16,
   "metadata": {
    "collapsed": true
   },
   "outputs": [],
   "source": [
    "def draw_graph(tree, name, rule=[]):\n",
    "    dot = Digraph(name)\n",
    "    tree.todot(dot, rule)\n",
    "    return dot"
   ]
  },
  {
   "cell_type": "code",
   "execution_count": 17,
   "metadata": {
    "collapsed": true
   },
   "outputs": [],
   "source": [
    "p = JaegerParser(\"trace.json\")\n",
    "p.process()\n"
   ]
  },
  {
   "cell_type": "code",
   "execution_count": 22,
   "metadata": {},
   "outputs": [
    {
     "name": "stdout",
     "output_type": "stream",
     "text": [
      "digraph raw2 {\n",
      "\t\"\" [label=\"\"]\n",
      "\t\"\" [label=\"\"]\n",
      "\t\"\" [label=\"\"]\n",
      "\t\"\" [label=\"\"]\n",
      "\t\"\" [label=\"\"]\n",
      "\t\"\" [label=\"\"]\n",
      "\t\"\" [label=\"\"]\n",
      "\t\t\"\" -> \"\"\n",
      "\t\t\"\" -> \"\"\n",
      "\t\t\"\" -> \"\"\n",
      "\t\t\"\" -> \"\"\n",
      "\t\t\"\" -> \"\"\n",
      "\t\"\" [label=\"\"]\n",
      "\t\"\" [label=\"\"]\n",
      "\t\"\" [label=\"\"]\n",
      "\t\"\" [label=\"\"]\n",
      "\t\"\" [label=\"\"]\n",
      "\t\"\" [label=\"\"]\n",
      "\t\"\" [label=\"\"]\n",
      "\t\t\"\" -> \"\"\n",
      "\t\t\"\" -> \"\"\n",
      "\t\t\"\" -> \"\"\n",
      "\t\t\"\" -> \"\"\n",
      "\t\t\"\" -> \"\"\n",
      "\t\"\" [label=\"\"]\n",
      "\t\"\" [label=\"\"]\n",
      "\t\"\" [label=\"\"]\n",
      "\t\t\"\" -> \"\"\n",
      "\t\t\"\" -> \"\"\n",
      "\t\t\"\" -> \"\"\n",
      "\t\t\"\" -> \"\"\n",
      "\t\t\"\" -> \"\"\n",
      "\t\t\"\" -> \"\"\n",
      "}\n"
     ]
    },
    {
     "data": {
      "text/plain": [
       "{u'component': u'proxy',\n",
       " u'downstream_cluster': u'-',\n",
       " u'duration': 97786,\n",
       " u'guid:x-request-id': u'22023ec5-f2ad-96b4-9a46-46f092abbeda',\n",
       " u'http.method': u'GET',\n",
       " u'http.protocol': u'HTTP/1.1',\n",
       " u'http.status_code': u'200',\n",
       " u'http.url': u'http://localhost/productpage',\n",
       " u'node_id': u'router~10.1.0.195~istio-ingressgateway-697bb8b4cc-6zkt4.istio-system~istio-system.svc.cluster.local',\n",
       " u'process-ip': u'10.1.0.195',\n",
       " u'request_size': u'0',\n",
       " u'response_flags': u'-',\n",
       " u'response_size': u'5286',\n",
       " 'serviceName': u'istio-ingressgateway',\n",
       " u'span.kind': u'client',\n",
       " u'startTime': 1563326342240694,\n",
       " u'upstream_cluster': u'outbound|9080||productpage.default.svc.cluster.local',\n",
       " u'user_agent': u'Mozilla/5.0 (Macintosh; Intel Mac OS X 10_14_5) AppleWebKit/537.36 (KHTML, like Gecko) Chrome/75.0.3770.100 Safari/537.36'}"
      ]
     },
     "execution_count": 22,
     "metadata": {},
     "output_type": "execute_result"
    }
   ],
   "source": [
    "rules_raw = {\n",
    "    #'serviceName' : 'lambda x : x',\n",
    "    'spanID' : 'lambda x : x',\n",
    "    'operationName' : 'lambda x : x',\n",
    "}\n",
    "\n",
    "#print(draw_graph(p.root.transform(rules_raw), \"raw2\"))\n",
    "t = p.root.transform(rules_raw)\n",
    "p.root.labels"
   ]
  },
  {
   "cell_type": "code",
   "execution_count": null,
   "metadata": {
    "collapsed": true
   },
   "outputs": [],
   "source": []
  },
  {
   "cell_type": "code",
   "execution_count": null,
   "metadata": {
    "collapsed": true
   },
   "outputs": [],
   "source": []
  },
  {
   "cell_type": "code",
   "execution_count": null,
   "metadata": {
    "collapsed": true
   },
   "outputs": [],
   "source": []
  },
  {
   "cell_type": "code",
   "execution_count": null,
   "metadata": {
    "collapsed": true
   },
   "outputs": [],
   "source": []
  }
 ],
 "metadata": {
  "kernelspec": {
   "display_name": "Python 2",
   "language": "python",
   "name": "python2"
  },
  "language_info": {
   "codemirror_mode": {
    "name": "ipython",
    "version": 2
   },
   "file_extension": ".py",
   "mimetype": "text/x-python",
   "name": "python",
   "nbconvert_exporter": "python",
   "pygments_lexer": "ipython2",
   "version": "2.7.13"
  }
 },
 "nbformat": 4,
 "nbformat_minor": 2
}
